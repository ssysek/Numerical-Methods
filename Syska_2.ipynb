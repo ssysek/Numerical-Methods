{
 "cells": [
  {
   "cell_type": "markdown",
   "metadata": {},
   "source": [
    "<a id='zad1'></a>\n",
    "***Zadanie 1.*** "
   ]
  },
  {
   "cell_type": "code",
   "execution_count": 19,
   "metadata": {},
   "outputs": [
    {
     "name": "stdout",
     "output_type": "stream",
     "text": [
      "1. Blad bezwzgledny: 0.0012644892673496777\n",
      "Blad wzgledny: 0.0004024994347707008 \n",
      "\n",
      "\n",
      "2. Blad bezwzgledny: 0.0002818284590451192\n",
      "Blad wzgledny: 0.00010367889601972718 \n",
      "\n",
      "\n",
      "3. Blad bezwzgledny: 11.544268632989315\n",
      "Blad wzgledny: 0.008332470227394952 \n",
      "\n",
      "\n",
      "4. Blad bezwzgledny: 3343.1271580516477\n",
      " Blad wzgledny: 0.009212762230080598\n"
     ]
    }
   ],
   "source": [
    "import math\n",
    "import numpy\n",
    "print('1. Blad bezwzgledny:',math.fabs(math.pi-(22/7)))\n",
    "print('Blad wzgledny:',math.fabs((math.pi-(22/7))/math.pi),'\\n\\n')\n",
    "\n",
    "print('2. Blad bezwzgledny:',math.fabs(math.e-(2.718)))\n",
    "print('Blad wzgledny:',math.fabs((math.e-(2.718))/math.e),'\\n\\n')\n",
    "\n",
    "print('3. Blad bezwzgledny:',math.fabs(10**math.pi-(1397)))\n",
    "print('Blad wzgledny:',math.fabs((10**math.pi-(1397))/10**math.pi),'\\n\\n')\n",
    "\n",
    "print('4. Blad bezwzgledny:',math.fabs(math.factorial(9)-(math.sqrt(18*math.pi)*(9/math.e)**9)))\n",
    "print(' Blad wzgledny:',math.fabs(math.factorial(9)-(math.sqrt(18*math.pi)*(9/math.e)**9))/math.factorial(9))\n"
   ]
  },
  {
   "cell_type": "markdown",
   "metadata": {},
   "source": [
    "<a id='zad2'></a>\n",
    "***Zadanie 2.*** "
   ]
  },
  {
   "cell_type": "code",
   "execution_count": 50,
   "metadata": {},
   "outputs": [
    {
     "name": "stdout",
     "output_type": "stream",
     "text": [
      "1. Wartość G(p) obliczona w sposób analityczny nie zalezy od p\n"
     ]
    },
    {
     "data": {
      "image/png": "[encoded data removed]",
      "text/plain": [
       "<matplotlib.figure.Figure at 0x1129c9cc0>"
      ]
     },
     "metadata": {},
     "output_type": "display_data"
    },
    {
     "name": "stdout",
     "output_type": "stream",
     "text": [
      "3,4. Błąd ma tendencje wzrostowa wraz ze wzrostem n, rodzaj błędu występujący w tym przykładzie to błąd zaokrąglenia\n"
     ]
    }
   ],
   "source": [
    "import matplotlib.pyplot as plt\n",
    "\n",
    "print('1. Wartość G(p) obliczona w sposób analityczny nie zalezy od p')\n",
    "\n",
    "\n",
    "def G(p):\n",
    "    return (1/p)*((10**p)*(1+p*numpy.round(math.pi,decimals=15)*10**(-p))-10**p)\n",
    "\n",
    "wektor=[]\n",
    "wzgledny=[]\n",
    "bezwzgledny=[]\n",
    "n=numpy.linspace(1,15,15)\n",
    "def ciag(n):\n",
    "    for k in range (1,n+1):\n",
    "        wektor.append(G(k))\n",
    "        bezwzgledny.append(math.fabs(math.pi-G(k)))\n",
    "        wzgledny.append((math.fabs(math.pi-G(k)))/math.pi)\n",
    "\n",
    "ciag(15)\n",
    "plt.semilogy(n,bezwzgledny,color='Blue')\n",
    "plt.title('Blad bezwzgledny')\n",
    "plt.xlabel('n')\n",
    "plt.ylabel('Blad')\n",
    "plt.legend('G(n)')\n",
    "\n",
    "plt.semilogy(n,wzgledny,color='Pink')\n",
    "plt.title('Blad wzgledny')\n",
    "plt.xlabel('n')\n",
    "plt.ylabel('Blad')\n",
    "plt.legend('G(n)')\n",
    "plt.show()\n",
    "\n",
    "print('3,4. Błąd ma tendencje wzrostowa wraz ze wzrostem n, rodzaj błędu występujący w tym przykładzie to błąd zaokrąglenia')"
   ]
  },
  {
   "cell_type": "markdown",
   "metadata": {},
   "source": [
    "<a id='zad3'></a>\n",
    "***Zadanie 3.*** "
   ]
  },
  {
   "cell_type": "code",
   "execution_count": 33,
   "metadata": {},
   "outputs": [
    {
     "name": "stdout",
     "output_type": "stream",
     "text": [
      "1. Blad bezwzgledny: 0.009948495125712054\n",
      "Blad wzgledny: 0.003659846827343768 \n",
      "\n",
      "\n",
      "2. Blad bezwzgledny: 3.0288585284310443e-07\n",
      "Blad wzgledny: 1.1142547828265698e-07 \n",
      "\n",
      "\n"
     ]
    }
   ],
   "source": [
    "def euler(n):\n",
    "    suma=0\n",
    "    for k in range (0,n+1):\n",
    "        suma+=1/math.factorial(k)\n",
    "    return suma\n",
    "\n",
    "print('1. Blad bezwzgledny:',math.fabs(math.e-(euler(5))))\n",
    "print('Blad wzgledny:',math.fabs((math.e-(euler(5)))/math.e),'\\n\\n')\n",
    "\n",
    "print('2. Blad bezwzgledny:',math.fabs(math.e-(euler(10))))\n",
    "print('Blad wzgledny:',math.fabs((math.e-(euler(10)))/math.e),'\\n\\n')"
   ]
  },
  {
   "cell_type": "markdown",
   "metadata": {},
   "source": [
    "<a id='zad4'></a>\n",
    "***Zadanie 4.*** "
   ]
  },
  {
   "cell_type": "code",
   "execution_count": 61,
   "metadata": {},
   "outputs": [
    {
     "name": "stdout",
     "output_type": "stream",
     "text": [
      "Liczba bitów mantysy:  52\n",
      "\n",
      "\n",
      " Błąd wynikający ze sposobu reprezentacji liczb w komputerze\n"
     ]
    }
   ],
   "source": [
    "a=1.0\n",
    "b=2\n",
    "mantysa=1\n",
    "while True:\n",
    "    b=2**(-mantysa)\n",
    "    if((a+b-a-b) !=0):\n",
    "        break\n",
    "    mantysa+=1\n",
    "print('Liczba bitów mantysy: ',mantysa-1)\n",
    "\n",
    "print('\\n\\n Błąd wynikający ze sposobu reprezentacji liczb w komputerze')"
   ]
  },
  {
   "cell_type": "markdown",
   "metadata": {},
   "source": [
    "<a id='zad5'></a>\n",
    "***Zadanie 5.*** "
   ]
  },
  {
   "cell_type": "code",
   "execution_count": 60,
   "metadata": {},
   "outputs": [
    {
     "name": "stdout",
     "output_type": "stream",
     "text": [
      "3.1319807472443624\n",
      "\n",
      "\n",
      "Błąd obcięcia, próba przedstawienia nieskończonego ciągu skończoną wartością\n"
     ]
    }
   ],
   "source": [
    "funkcja= lambda z : math.sqrt(6*sum([1/n**2 for n in range(1,z)]))\n",
    "print(funkcja(100))\n",
    "\n",
    "print('\\n\\nBłąd obcięcia, próba przedstawienia nieskończonego ciągu skończoną wartością')"
   ]
  },
  {
   "cell_type": "code",
   "execution_count": null,
   "metadata": {
    "collapsed": true
   },
   "outputs": [],
   "source": []
  },
  {
   "cell_type": "code",
   "execution_count": null,
   "metadata": {
    "collapsed": true
   },
   "outputs": [],
   "source": []
  },
  {
   "cell_type": "code",
   "execution_count": null,
   "metadata": {
    "collapsed": true
   },
   "outputs": [],
   "source": []
  }
 ],
 "metadata": {
  "kernelspec": {
   "display_name": "Python 3",
   "language": "python",
   "name": "python3"
  },
  "language_info": {
   "codemirror_mode": {
    "name": "ipython",
    "version": 3
   },
   "file_extension": ".py",
   "mimetype": "text/x-python",
   "name": "python",
   "nbconvert_exporter": "python",
   "pygments_lexer": "ipython3",
   "version": "3.6.3"
  }
 },
 "nbformat": 4,
 "nbformat_minor": 2
}
