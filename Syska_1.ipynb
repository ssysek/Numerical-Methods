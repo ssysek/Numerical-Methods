{
 "cells": [
  {
   "cell_type": "markdown",
   "metadata": {},
   "source": [
    "<a id='zad1'></a>\n",
    "***Zadanie 1.***"
   ]
  },
  {
   "cell_type": "code",
   "execution_count": 1,
   "metadata": {
    "collapsed": true
   },
   "outputs": [],
   "source": [
    "import math\n",
    "\n",
    "k=1240*math.sqrt(7)\n",
    "m=4467\n",
    "l=2j\n",
    "d=k+m\n",
    "c=d+l"
   ]
  },
  {
   "cell_type": "markdown",
   "metadata": {},
   "source": [
    "<a id='zad2'></a>\n",
    "***Zadanie 2.***"
   ]
  },
  {
   "cell_type": "code",
   "execution_count": 2,
   "metadata": {},
   "outputs": [
    {
     "name": "stdout",
     "output_type": "stream",
     "text": [
      "7747.731625720093\n",
      "7747.732\n",
      "7747.73162572009277937468\n"
     ]
    }
   ],
   "source": [
    "print(d)\n",
    "print('%.3f' %d)\n",
    "print('%.20f' %d)"
   ]
  },
  {
   "cell_type": "markdown",
   "metadata": {},
   "source": [
    "<a id='zad3'></a>\n",
    "***Zadanie 3.***"
   ]
  },
  {
   "cell_type": "code",
   "execution_count": 10,
   "metadata": {},
   "outputs": [
    {
     "name": "stdout",
     "output_type": "stream",
     "text": [
      "5340.707511102648\n"
     ]
    }
   ],
   "source": [
    "r = 17 #promien\n",
    "h = 33 #wysokosc\n",
    "S = 2 * math.pi * r ** 2 + 2 * math.pi * r * h \n",
    "print(S)"
   ]
  },
  {
   "cell_type": "markdown",
   "metadata": {},
   "source": [
    "<a id='zad5'></a>\n",
    "***Zadanie 5.***"
   ]
  },
  {
   "cell_type": "code",
   "execution_count": 11,
   "metadata": {},
   "outputs": [
    {
     "name": "stdout",
     "output_type": "stream",
     "text": [
      "0.0\n"
     ]
    }
   ],
   "source": [
    "x = 0\n",
    "r = 0\n",
    "t = 1\n",
    "B=((x + r)*(x**(t*r)))/(r*math.sin(2*x)+3.3456)\n",
    "\n",
    "print(B)"
   ]
  },
  {
   "cell_type": "markdown",
   "metadata": {},
   "source": [
    "<a id='zad6'></a>\n",
    "***Zadanie 6.***"
   ]
  },
  {
   "cell_type": "code",
   "execution_count": 12,
   "metadata": {},
   "outputs": [
    {
     "name": "stdout",
     "output_type": "stream",
     "text": [
      "[[ 1.41421356  1.         -1.41421356]\n",
      " [ 0.          1.          1.        ]\n",
      " [-1.41421356  1.41421356  1.        ]]\n",
      "\n",
      "\n",
      "[[ 1.41421356  0.         -1.41421356]\n",
      " [ 1.          1.          1.41421356]\n",
      " [-1.41421356  1.          1.        ]]\n",
      "\n",
      "\n",
      "-4.0\n",
      "\n",
      "\n",
      "[[ 0.10355339  0.75       -0.60355339]\n",
      " [ 0.35355339  0.14644661  0.35355339]\n",
      " [-0.35355339  0.85355339 -0.35355339]]\n"
     ]
    }
   ],
   "source": [
    "import numpy as np\n",
    "a = math.sqrt(2)\n",
    "m= np.array([[a, 1, -a],[0,1,1],[-a,a,1]])\n",
    "print(m)\n",
    "print(\"\\n\")\n",
    "print(m.transpose())\n",
    "print(\"\\n\")\n",
    "print(np.linalg.det(m))\n",
    "print(\"\\n\")\n",
    "print(np.linalg.inv(m))"
   ]
  },
  {
   "cell_type": "markdown",
   "metadata": {},
   "source": [
    "<a id='zad7'></a>\n",
    "***Zadanie 7.***"
   ]
  },
  {
   "cell_type": "code",
   "execution_count": 13,
   "metadata": {},
   "outputs": [
    {
     "name": "stdout",
     "output_type": "stream",
     "text": [
      "1.41421356237\n",
      "1.0\n",
      "1.41421356237\n",
      "[-1.41421356  1.          1.        ]\n",
      "[ 0.  1.  1.]\n"
     ]
    }
   ],
   "source": [
    "m11 = m[0,0]\n",
    "print(m11)\n",
    "m33=m[2,2]\n",
    "print(m33)\n",
    "m32=m[2,1]\n",
    "print(m32)\n",
    "w1=m[:,2]\n",
    "print(w1)\n",
    "w2=m[1,:]\n",
    "print(w2)"
   ]
  },
  {
   "cell_type": "markdown",
   "metadata": {},
   "source": [
    "<a id='zad8'></a>\n",
    "***Zadanie 8.***"
   ]
  },
  {
   "cell_type": "code",
   "execution_count": 14,
   "metadata": {},
   "outputs": [
    {
     "name": "stdout",
     "output_type": "stream",
     "text": [
      "[ 5.  3.  2. -2. -1.]\n"
     ]
    }
   ],
   "source": [
    "wx = [1,-7,3,43,-28,-60]\n",
    "print(np.roots(wx))"
   ]
  },
  {
   "cell_type": "markdown",
   "metadata": {},
   "source": [
    "<a id='zad9'></a>\n",
    "***Zadanie 9.***"
   ]
  },
  {
   "cell_type": "code",
   "execution_count": 15,
   "metadata": {},
   "outputs": [
    {
     "name": "stdout",
     "output_type": "stream",
     "text": [
      "[  5.    6.3   7.6   8.9  10.2  11.5  12.8  14.1]\n"
     ]
    }
   ],
   "source": [
    "array = np.arange(5,15,1.3)\n",
    "print(array)"
   ]
  },
  {
   "cell_type": "markdown",
   "metadata": {},
   "source": [
    "<a id='zad10'></a>\n",
    "***Zadanie 10.***"
   ]
  },
  {
   "cell_type": "code",
   "execution_count": 9,
   "metadata": {},
   "outputs": [
    {
     "data": {
      "image/png": "[encoded data removed]",
      "text/plain": [
       "<matplotlib.figure.Figure at 0x111f30da0>"
      ]
     },
     "metadata": {},
     "output_type": "display_data"
    }
   ],
   "source": [
    "import numpy\n",
    "import matplotlib.pyplot as plt\n",
    "def funkcja(x):\n",
    "    return x**3 - 3*x\n",
    "\n",
    "x = numpy.linspace(-1,1,100)\n",
    "y = []\n",
    "for i in x:\n",
    "    y.append(funkcja(i))\n",
    "    \n",
    "plt.plot(x, y)\n",
    "plt.title('Tytul')\n",
    "plt.xlabel('x')\n",
    "plt.ylabel('F(x)')\n",
    "plt.legend('N')\n",
    "plt.show()"
   ]
  },
  {
   "cell_type": "markdown",
   "metadata": {
    "collapsed": true
   },
   "source": [
    "<a id='zad11'></a>\n",
    "***Zadanie 11.***"
   ]
  },
  {
   "cell_type": "code",
   "execution_count": 49,
   "metadata": {},
   "outputs": [
    {
     "name": "stdout",
     "output_type": "stream",
     "text": [
      "4500000.000 J\n",
      "1074.807 kcal\n"
     ]
    },
    {
     "data": {
      "image/png": "[encoded data removed]",
      "text/plain": [
       "<matplotlib.figure.Figure at 0x11cefd860>"
      ]
     },
     "metadata": {},
     "output_type": "display_data"
    },
    {
     "data": {
      "image/png": "[encoded data removed]",
      "text/plain": [
       "<matplotlib.figure.Figure at 0x11ceecb38>"
      ]
     },
     "metadata": {},
     "output_type": "display_data"
    }
   ],
   "source": [
    "m=2500 #g\n",
    "v=60 #km/h\n",
    "Q=(m*v**2)/2\n",
    "kcal=Q/(4.1868*1000)\n",
    "print('%.3f' %Q, 'J')\n",
    "print('%.3f' %kcal,'kcal')\n",
    "\n",
    "def cieplo(V):\n",
    "    return (3000*V**2)/2\n",
    "\n",
    "x1 = numpy.linspace(200,0,201)\n",
    "y1 = []\n",
    "for i in x1:\n",
    "    y1.append(cieplo(i))\n",
    "    \n",
    "plt.plot(x1,y1,color='Red')\n",
    "plt.title('Cieplo')\n",
    "plt.xlabel('km/h')\n",
    "plt.ylabel('J')\n",
    "plt.legend('N')\n",
    "plt.show()\n",
    "plt.semilogy(x1,y1,color ='Green')\n",
    "plt.title('Cieplo logarytmicznie')\n",
    "plt.xlabel('km/h')\n",
    "plt.ylabel('J')\n",
    "plt.legend('N')\n",
    "plt.show()"
   ]
  },
  {
   "cell_type": "code",
   "execution_count": null,
   "metadata": {
    "collapsed": true
   },
   "outputs": [],
   "source": []
  }
 ],
 "metadata": {
  "kernelspec": {
   "display_name": "Python 3",
   "language": "python",
   "name": "python3"
  },
  "language_info": {
   "codemirror_mode": {
    "name": "ipython",
    "version": 3
   },
   "file_extension": ".py",
   "mimetype": "text/x-python",
   "name": "python",
   "nbconvert_exporter": "python",
   "pygments_lexer": "ipython3",
   "version": "3.6.3"
  }
 },
 "nbformat": 4,
 "nbformat_minor": 2
}
