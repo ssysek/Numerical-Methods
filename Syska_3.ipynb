{
 "cells": [
  {
   "cell_type": "markdown",
   "metadata": {},
   "source": [
    "<a id='zad1'></a>\n",
    "***Zadanie 1.*** "
   ]
  },
  {
   "cell_type": "code",
   "execution_count": 16,
   "metadata": {},
   "outputs": [
    {
     "data": {
      "image/png": "[encoded data removed]",
      "text/plain": [
       "<Figure size 432x288 with 1 Axes>"
      ]
     },
     "metadata": {
      "needs_background": "light"
     },
     "output_type": "display_data"
    },
    {
     "name": "stdout",
     "output_type": "stream",
     "text": [
      "Szacując z wykresu, miejsca zerowe funkcji f(x) sa zbliżone do wartości 0 i 1.\n"
     ]
    }
   ],
   "source": [
    "import matplotlib.pyplot as plt\n",
    "import math\n",
    "import numpy\n",
    "\n",
    "def funkcja(x):\n",
    "    return math.e**(-2*x)+(x**2)-1\n",
    "def pochodna(x):\n",
    "    return 2*(-math.exp(-2*x)+x)\n",
    "def pochodna2(x):\n",
    "    return 4*math.exp(-2*x)+2\n",
    "\n",
    "n=numpy.linspace(-3,7,1000)\n",
    "wektor=[]\n",
    "wektor2=[]\n",
    "wektor3=[]\n",
    "\n",
    "def ciag(z):\n",
    "    for k in n:\n",
    "        wektor.append(funkcja(k))\n",
    "        wektor2.append(pochodna(k))\n",
    "        wektor3.append(pochodna2(k))\n",
    "    \n",
    "ciag(1000)\n",
    "    \n",
    "plt.plot(n,wektor,color='Black',label='$f(x)$')\n",
    "plt.title('Funkcja e^(−2x)+x^2−1')\n",
    "plt.plot(n,wektor2,color='Pink',label='$f\\'(x)$')\n",
    "plt.plot(n,wektor3,color='Green',label='$f\\'\\'(x)$')\n",
    "plt.axhline(0)\n",
    "plt.axvline(0)\n",
    "plt.xlabel('x')\n",
    "plt.ylabel('F(x)')\n",
    "plt.legend()\n",
    "plt.grid()\n",
    "plt.ylim(-1,6)\n",
    "plt.xlim(-2,3)\n",
    "plt.show()\n",
    "\n",
    "print('Szacując z wykresu, miejsca zerowe funkcji f(x) sa zbliżone do wartości 0 i 1.')"
   ]
  },
  {
   "cell_type": "markdown",
   "metadata": {},
   "source": [
    "<a id='zad2'></a>\n",
    "***Zadanie 2.*** "
   ]
  },
  {
   "cell_type": "code",
   "execution_count": 10,
   "metadata": {},
   "outputs": [
    {
     "name": "stdout",
     "output_type": "stream",
     "text": [
      "1.Funkcja jest okreslona\n",
      "2.Funkcja jest ciagla w podanym przedziale\n",
      "3.Funkcja f(x) na krańcach przedziału <a,b> przyjmuje różne znaki.\n",
      "\n",
      "\n",
      "\n",
      "(0.09999999990686775, 31)\n",
      "(0.9165625830879434, 32)\n",
      "\n",
      "\n",
      "Czas wlasnej funkcji: \n",
      " 0.0001480579376220703    0.0001087188720703125\n",
      "\n",
      "Czas wbudowanej funkcji: \n",
      " 0.00013899803161621094    0.00012421607971191406\n"
     ]
    }
   ],
   "source": [
    "import time\n",
    "import scipy.optimize as sc\n",
    "#zakladamy ze a poczatek przedzialu, b koniec, czyli b>a\n",
    "def bijekcja(f,a,b,e,it):\n",
    "    if(f(a) * f(b) >= 0): \n",
    "        return print(\"Zły zakres, wykres w tym przedziale nie przecina osi OY\")\n",
    "    if(a>b):\n",
    "        return print('Zły przedział')\n",
    "        \n",
    "    mid=(a+b)/2\n",
    "    k=0\n",
    "    while k<it and abs(b-a)>e:\n",
    "        k+=1\n",
    "        mid = (a+b)/2\n",
    "        if (f(mid)*f(a) < 0):\n",
    "            b = mid\n",
    "        else:\n",
    "            a = mid\n",
    "    return mid, k\n",
    "\n",
    "print('1.Funkcja jest okreslona\\n2.Funkcja jest ciagla w podanym przedziale\\n3.Funkcja f(x) na krańcach przedziału <a,b> przyjmuje różne znaki.\\n\\n\\n')\n",
    "\n",
    "print(bijekcja(funkcja,-0.1,0.1,10**(-10),1000))\n",
    "print(bijekcja(funkcja,0.8,1.1,10**(-10),1000))\n",
    "\n",
    "start1=time.time()\n",
    "bijekcja(funkcja,-0.1,0.1,10**(-10),1000)\n",
    "stop1=time.time()\n",
    "start2=time.time()\n",
    "sc.bisect(funkcja,-0.1,0.1)\n",
    "stop2=time.time()\n",
    "\n",
    "start3=time.time()\n",
    "bijekcja(funkcja,0.8,1.1,10**(-10),1000)\n",
    "stop3=time.time()\n",
    "start4=time.time()\n",
    "sc.bisect(funkcja,0.8,1.1)\n",
    "stop4=time.time()\n",
    "\n",
    "print('\\n\\nCzas wlasnej funkcji: \\n',stop1-start1,'  ',stop2-start2)\n",
    "print('\\nCzas wbudowanej funkcji: \\n',stop3-start3,'  ',stop4-start4\n",
    "      print('Metoda bijekcji ma 31 iteracji')\n",
    "\n",
    "\n"
   ]
  },
  {
   "cell_type": "markdown",
   "metadata": {},
   "source": [
    "<a id='zad3'></a>\n",
    "***Zadanie 3.*** "
   ]
  },
  {
   "cell_type": "code",
   "execution_count": 11,
   "metadata": {},
   "outputs": [
    {
     "name": "stdout",
     "output_type": "stream",
     "text": [
      "1.W przedziale [a,b] znajduje się dokładnie jeden pierwiastek.\n",
      "2.Funkcja ma różne znaki na krańcach przedziału, tj. f ( a ) ⋅ f ( b ) < 0.\n",
      "3.Pierwsza i druga pochodna funkcji mają stały znak w tym przedziale.\n",
      "4.Funckja jest ciagla i okreslona w danym przedziale\n",
      "\n",
      "\n",
      "(2.9581990200644026e-17, 4)\n",
      "(0.916562583105698, 4)\n",
      "\n",
      "\n",
      "Czas wlasnej funkcji: \n",
      " 5.7220458984375e-05    5.602836608886719e-05\n",
      "\n",
      "Czas wbudowanej funkcji: \n",
      " 4.982948303222656e-05    4.696846008300781e-05\n"
     ]
    }
   ],
   "source": [
    "def newton(f,p,x0,e,it):\n",
    "    x = x0 - f(x0)/p(x0)\n",
    "    y = x0\n",
    "    k = 0\n",
    "    while abs(x-y)>e and k<it:\n",
    "        k+=1\n",
    "        y = x\n",
    "        x = y - f(y)/p(y)\n",
    "    return x,k\n",
    "\n",
    "print('1.W przedziale [a,b] znajduje się dokładnie jeden pierwiastek.\\n2.Funkcja ma różne znaki na krańcach przedziału, tj. f ( a ) ⋅ f ( b ) < 0.\\n3.Pierwsza i druga pochodna funkcji mają stały znak w tym przedziale.\\n4.Funckja jest ciagla i okreslona w danym przedziale\\n\\n')\n",
    "\n",
    "print(newton(funkcja,pochodna,0.1,10**(-10),1000))\n",
    "print(newton(funkcja,pochodna,0.8,10**(-10),1000))\n",
    "\n",
    "start1=time.time()\n",
    "newton(funkcja,pochodna,0.1,10**(-10),1000)\n",
    "stop1=time.time()\n",
    "start2=time.time()\n",
    "sc.newton(funkcja,0.1,pochodna)\n",
    "stop2=time.time()\n",
    "\n",
    "start3=time.time()\n",
    "newton(funkcja,pochodna,0.8,10**(-10),1000)\n",
    "stop3=time.time()\n",
    "start4=time.time()\n",
    "sc.newton(funkcja,0.8,pochodna)\n",
    "stop4=time.time()\n",
    "\n",
    "print('\\n\\nCzas wlasnej funkcji: \\n',stop1-start1,'  ',stop2-start2)\n",
    "print('\\nCzas wbudowanej funkcji: \\n',stop3-start3,'  ',stop4-start4)\n",
    "print('Metoda Newtona ma 4 iteracje')\n"
   ]
  },
  {
   "cell_type": "markdown",
   "metadata": {},
   "source": [
    "<a id='zad4'></a>\n",
    "***Zadanie 4.*** "
   ]
  },
  {
   "cell_type": "code",
   "execution_count": 18,
   "metadata": {},
   "outputs": [
    {
     "name": "stdout",
     "output_type": "stream",
     "text": [
      "(0.916562583105698, 5)\n",
      "(3.2756352257099896e-17, 5)\n",
      "1.W przedziale [a,b] znajduje się dokładnie jeden pierwiastek.\n",
      "2.Funkcja ma różne znaki na krańcach przedziału, tj. f ( a ) ⋅ f ( b ) < 0.\n",
      "3.Pierwsza i druga pochodna funkcji mają stały znak w tym przedziale.\n",
      "4.Funckja jest ciagla i okreslona w danym przedziale\n",
      "\n",
      "\n",
      "\n",
      "\n",
      "Czas wlasnej funkcji: \n",
      " 0.00019097328186035156    0.001074075698852539\n",
      "\n",
      "Czas wbudowanej funkcji: \n",
      " 0.0001709461212158203    0.00011801719665527344\n",
      "Metoda siecznych ma 5 iteracji\n"
     ]
    }
   ],
   "source": [
    "def sieczne(f,a,b,e,it):\n",
    "    tmp = a\n",
    "    a=b\n",
    "    b = tmp - f(tmp)*(b-tmp)/(f(b)-f(tmp))\n",
    "    k =0\n",
    "    while abs(b-a)>e and k<it:\n",
    "        k+=1\n",
    "        tmp = a\n",
    "        a=b\n",
    "        b = tmp - f(tmp)*(b-tmp)/(f(b)-f(tmp))\n",
    "    return b,k\n",
    "\n",
    "print(sieczne(funkcja,0.8,1.1,10**(-10),1000))\n",
    "print(sieczne(funkcja,-0.1,0.1,10**(-10),1000))\n",
    "\n",
    "print('1.W przedziale [a,b] znajduje się dokładnie jeden pierwiastek.\\n2.Funkcja ma różne znaki na krańcach przedziału, tj. f ( a ) ⋅ f ( b ) < 0.\\n3.Pierwsza i druga pochodna funkcji mają stały znak w tym przedziale.\\n4.Funckja jest ciagla i okreslona w danym przedziale\\n\\n')\n",
    "\n",
    "start1=time.time()\n",
    "sieczne(funkcja,0.8,1.1,10**(-10),1000)\n",
    "stop1=time.time()\n",
    "start2=time.time()\n",
    "sc.newton(funkcja,-0.1,pochodna)\n",
    "stop2=time.time()\n",
    "\n",
    "start3=time.time()\n",
    "sieczne(funkcja,-0.1,0.1,10**(-10),1000)\n",
    "stop3=time.time()\n",
    "start4=time.time()\n",
    "sc.newton(funkcja,0.8,pochodna)\n",
    "stop4=time.time()\n",
    "\n",
    "print('\\n\\nCzas wlasnej funkcji: \\n',stop1-start1,'  ',stop2-start2)\n",
    "print('\\nCzas wbudowanej funkcji: \\n',stop3-start3,'  ',stop4-start4)\n",
    "print('Metoda siecznych ma 5 iteracji')\n",
    "\n"
   ]
  },
  {
   "cell_type": "code",
   "execution_count": null,
   "metadata": {},
   "outputs": [],
   "source": []
  },
  {
   "cell_type": "code",
   "execution_count": null,
   "metadata": {},
   "outputs": [],
   "source": []
  },
  {
   "cell_type": "code",
   "execution_count": null,
   "metadata": {},
   "outputs": [],
   "source": []
  }
 ],
 "metadata": {
  "kernelspec": {
   "display_name": "Python 3",
   "language": "python",
   "name": "python3"
  },
  "language_info": {
   "codemirror_mode": {
    "name": "ipython",
    "version": 3
   },
   "file_extension": ".py",
   "mimetype": "text/x-python",
   "name": "python",
   "nbconvert_exporter": "python",
   "pygments_lexer": "ipython3",
   "version": "3.7.0"
  }
 },
 "nbformat": 4,
 "nbformat_minor": 2
}
